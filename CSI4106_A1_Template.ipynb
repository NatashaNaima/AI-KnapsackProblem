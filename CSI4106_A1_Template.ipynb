{
 "cells": [
  {
   "cell_type": "markdown",
   "metadata": {
    "id": "SPeulvp-meob"
   },
   "source": [
    "**ASSIGNMENT 1 - EMPIRICAL STUDY OF KNAPSACK PROBLEM**"
   ]
  },
  {
   "cell_type": "markdown",
   "metadata": {
    "id": "f2Eeke4Z_EkW"
   },
   "source": [
    "**1. Group Description**\n",
    "\n",
    "Group Number: \\\\\n",
    "Member Names: Natasha Hussain | Daanish Khan\n",
    "Member Student Numbers: 300122562 | 300126840"
   ]
  },
  {
   "cell_type": "markdown",
   "metadata": {
    "id": "Yq6OGiMX_da0"
   },
   "source": [
    "**2. Knapsack Problem**\n",
    "\n",
    "In the knapsack problem, we are given a set of items with respective weights and prices. We are also given a container with a maximum capacity. To solve this problem, we must find the items to put in the container that gives us the most value, while also not going over the maximum capacity of the bag."
   ]
  },
  {
   "cell_type": "markdown",
   "metadata": {
    "id": "C8vwHE0G_iOG"
   },
   "source": [
    "**3. Dataset**\n",
    "\n",
    "The dataset provided gives us 10,000 different knapsack problems to solve, each including 5 items with its respective weight and values, as well as 1 container with max weight.\n",
    "\n",
    "We used `knapsack_5_items.csv` from https://www.kaggle.com/datasets/warcoder/knapsack-problem?resource=download"
   ]
  },
  {
   "cell_type": "markdown",
   "metadata": {
    "id": "OZTWy1qN2BzY"
   },
   "source": [
    "**Import important libraries**"
   ]
  },
  {
   "cell_type": "code",
   "execution_count": 24,
   "metadata": {
    "id": "GmP1buROhaOx"
   },
   "outputs": [],
   "source": [
    "import pandas as pd\n",
    "import itertools\n",
    "import numpy as np"
   ]
  },
  {
   "cell_type": "markdown",
   "metadata": {
    "id": "wNJyoeCz00Kr"
   },
   "source": [
    "**Read Dataset**\n",
    "\n",
    "As outlined in the project description, it should be possible for the correctors to execute your notebook without requiring any downloads.\n",
    "\n",
    "To facilitate access to the dataset without the need for downloads, you can upload it to a public GitHub repository and provide a link to the raw version of the dataset.\n",
    "\n",
    "The link to the raw version is as follows:\n",
    "*https://raw.githubusercontent.com/NatashaNaima/AI-KnapsackProblem/main/knapsack_5_items.csv*\n",
    "\n",
    "For example:\n",
    "\n",
    "https://raw.githubusercontent.com/baharin/KnapsackProblem/main/knapsack_5_items.csv\n",
    "\n",
    "Now provide the link to YOUR dataset and read the dataset using pandas:"
   ]
  },
  {
   "cell_type": "code",
   "execution_count": 25,
   "metadata": {
    "id": "BrhpM-HwhaOy"
   },
   "outputs": [],
   "source": [
    "url = 'https://raw.githubusercontent.com/NatashaNaima/AI-KnapsackProblem/main/knapsack_5_items.csv'\n",
    "dataset = pd.read_csv(url)"
   ]
  },
  {
   "cell_type": "markdown",
   "metadata": {
    "id": "4Drc71BY2a7w"
   },
   "source": [
    "Let's see what are the columns of the dataset? :"
   ]
  },
  {
   "cell_type": "code",
   "execution_count": 26,
   "metadata": {
    "colab": {
     "base_uri": "https://localhost:8080/"
    },
    "id": "pGxZXmhNhaOz",
    "outputId": "09bb8058-957c-4aae-fe50-de83e5a3b424"
   },
   "outputs": [
    {
     "data": {
      "text/plain": [
       "Index(['Weights', 'Prices', 'Capacity', 'Best picks', 'Best price'], dtype='object')"
      ]
     },
     "execution_count": 26,
     "metadata": {},
     "output_type": "execute_result"
    }
   ],
   "source": [
    "dataset.columns"
   ]
  },
  {
   "cell_type": "markdown",
   "metadata": {
    "id": "aNZaqcCT2w-T"
   },
   "source": [
    "As we expected, we have columns for weights, costs, capacity, best picks and best price for all the instances."
   ]
  },
  {
   "cell_type": "markdown",
   "metadata": {
    "id": "jkokOHRj2kgZ"
   },
   "source": [
    "Now let's see the first 10 entries (rows):"
   ]
  },
  {
   "cell_type": "code",
   "execution_count": 27,
   "metadata": {
    "colab": {
     "base_uri": "https://localhost:8080/",
     "height": 363
    },
    "id": "0xqfPrBEhaOz",
    "outputId": "4376de03-1214-492f-ba5e-304f9f0f1129"
   },
   "outputs": [
    {
     "data": {
      "text/html": [
       "<div>\n",
       "<style scoped>\n",
       "    .dataframe tbody tr th:only-of-type {\n",
       "        vertical-align: middle;\n",
       "    }\n",
       "\n",
       "    .dataframe tbody tr th {\n",
       "        vertical-align: top;\n",
       "    }\n",
       "\n",
       "    .dataframe thead th {\n",
       "        text-align: right;\n",
       "    }\n",
       "</style>\n",
       "<table border=\"1\" class=\"dataframe\">\n",
       "  <thead>\n",
       "    <tr style=\"text-align: right;\">\n",
       "      <th></th>\n",
       "      <th>Weights</th>\n",
       "      <th>Prices</th>\n",
       "      <th>Capacity</th>\n",
       "      <th>Best picks</th>\n",
       "      <th>Best price</th>\n",
       "    </tr>\n",
       "  </thead>\n",
       "  <tbody>\n",
       "    <tr>\n",
       "      <th>0</th>\n",
       "      <td>[46 40 42 38 10]</td>\n",
       "      <td>[12 19 19 15  8]</td>\n",
       "      <td>40</td>\n",
       "      <td>[0. 1. 0. 0. 0.]</td>\n",
       "      <td>19.0</td>\n",
       "    </tr>\n",
       "    <tr>\n",
       "      <th>1</th>\n",
       "      <td>[11 31  4  6  7]</td>\n",
       "      <td>[ 2  8 18 16  3]</td>\n",
       "      <td>64</td>\n",
       "      <td>[1. 1. 1. 1. 1.]</td>\n",
       "      <td>47.0</td>\n",
       "    </tr>\n",
       "    <tr>\n",
       "      <th>2</th>\n",
       "      <td>[32 49 27 37 24]</td>\n",
       "      <td>[19 16 16  4  1]</td>\n",
       "      <td>87</td>\n",
       "      <td>[1. 0. 1. 0. 1.]</td>\n",
       "      <td>36.0</td>\n",
       "    </tr>\n",
       "    <tr>\n",
       "      <th>3</th>\n",
       "      <td>[20 35 22 23 16]</td>\n",
       "      <td>[19 17 19  9  1]</td>\n",
       "      <td>21</td>\n",
       "      <td>[1. 0. 0. 0. 0.]</td>\n",
       "      <td>19.0</td>\n",
       "    </tr>\n",
       "    <tr>\n",
       "      <th>4</th>\n",
       "      <td>[ 7 12 19 13 20]</td>\n",
       "      <td>[10 11 18 15  5]</td>\n",
       "      <td>50</td>\n",
       "      <td>[0. 1. 1. 1. 0.]</td>\n",
       "      <td>44.0</td>\n",
       "    </tr>\n",
       "    <tr>\n",
       "      <th>5</th>\n",
       "      <td>[27 10 25 25  7]</td>\n",
       "      <td>[13 19  7 16  3]</td>\n",
       "      <td>66</td>\n",
       "      <td>[1. 1. 0. 1. 0.]</td>\n",
       "      <td>48.0</td>\n",
       "    </tr>\n",
       "    <tr>\n",
       "      <th>6</th>\n",
       "      <td>[21  2 33 45 26]</td>\n",
       "      <td>[ 1 14 10  6 13]</td>\n",
       "      <td>80</td>\n",
       "      <td>[0. 1. 1. 0. 1.]</td>\n",
       "      <td>37.0</td>\n",
       "    </tr>\n",
       "    <tr>\n",
       "      <th>7</th>\n",
       "      <td>[37 27 39 14 25]</td>\n",
       "      <td>[18  7 15  4 13]</td>\n",
       "      <td>35</td>\n",
       "      <td>[0. 0. 0. 0. 1.]</td>\n",
       "      <td>13.0</td>\n",
       "    </tr>\n",
       "    <tr>\n",
       "      <th>8</th>\n",
       "      <td>[ 1 48  4 23 39]</td>\n",
       "      <td>[ 9  4 10 16 12]</td>\n",
       "      <td>51</td>\n",
       "      <td>[1. 0. 1. 1. 0.]</td>\n",
       "      <td>35.0</td>\n",
       "    </tr>\n",
       "    <tr>\n",
       "      <th>9</th>\n",
       "      <td>[ 4  3 22  9 32]</td>\n",
       "      <td>[14  6  3 17  8]</td>\n",
       "      <td>53</td>\n",
       "      <td>[1. 1. 0. 1. 1.]</td>\n",
       "      <td>45.0</td>\n",
       "    </tr>\n",
       "  </tbody>\n",
       "</table>\n",
       "</div>"
      ],
      "text/plain": [
       "            Weights            Prices  Capacity        Best picks  Best price\n",
       "0  [46 40 42 38 10]  [12 19 19 15  8]        40  [0. 1. 0. 0. 0.]        19.0\n",
       "1  [11 31  4  6  7]  [ 2  8 18 16  3]        64  [1. 1. 1. 1. 1.]        47.0\n",
       "2  [32 49 27 37 24]  [19 16 16  4  1]        87  [1. 0. 1. 0. 1.]        36.0\n",
       "3  [20 35 22 23 16]  [19 17 19  9  1]        21  [1. 0. 0. 0. 0.]        19.0\n",
       "4  [ 7 12 19 13 20]  [10 11 18 15  5]        50  [0. 1. 1. 1. 0.]        44.0\n",
       "5  [27 10 25 25  7]  [13 19  7 16  3]        66  [1. 1. 0. 1. 0.]        48.0\n",
       "6  [21  2 33 45 26]  [ 1 14 10  6 13]        80  [0. 1. 1. 0. 1.]        37.0\n",
       "7  [37 27 39 14 25]  [18  7 15  4 13]        35  [0. 0. 0. 0. 1.]        13.0\n",
       "8  [ 1 48  4 23 39]  [ 9  4 10 16 12]        51  [1. 0. 1. 1. 0.]        35.0\n",
       "9  [ 4  3 22  9 32]  [14  6  3 17  8]        53  [1. 1. 0. 1. 1.]        45.0"
      ]
     },
     "execution_count": 27,
     "metadata": {},
     "output_type": "execute_result"
    }
   ],
   "source": [
    "dataset.head(10)"
   ]
  },
  {
   "cell_type": "markdown",
   "metadata": {
    "id": "1dq9VpZh2r2A"
   },
   "source": [
    "**Preprocessing Step**\n",
    "\n",
    "Typically, the initial step in any project that involves reading and handling data is data preprocessing and cleansing.\n",
    "\n",
    "In our dataset, we expect the entries in the \"Weights,\" \"Prices,\" and \"Best Picks\" columns to be in the form of arrays of floats or integers, like this: [45, 40, 42, 38, 10]\n",
    "\n",
    "However, when you read each entry using pandas, they will be in a form of a string: \"[45 40 42 38 10]\"\n",
    "\n",
    "So we need to convert these strings into \"arrays of floats or integers.\" You can utilize the function provided below for this purpose:\n"
   ]
  },
  {
   "cell_type": "code",
   "execution_count": 28,
   "metadata": {
    "id": "BmUtgrBchaOz"
   },
   "outputs": [],
   "source": [
    "def string_to_list(string):\n",
    "\n",
    "  string_list = string.strip('[]').split()\n",
    "\n",
    "  float_list = [float(element) for element in string_list]\n",
    "\n",
    "  return float_list"
   ]
  },
  {
   "cell_type": "markdown",
   "metadata": {
    "id": "CP1nkMb27A4n"
   },
   "source": [
    "Furthermore, it's possible that certain rows in the dataset contain empty values in specific columns. We also aim to eliminate these rows as they do not provide any useful information. We use dropna() function to do so:"
   ]
  },
  {
   "cell_type": "code",
   "execution_count": 29,
   "metadata": {
    "id": "LT_iYgxhhaO0"
   },
   "outputs": [],
   "source": [
    "#Ignore the warning messages.\n",
    "\n",
    "dataset = dataset.dropna()\n",
    "\n",
    "dataset.Weights = dataset.Weights.apply(lambda x : string_to_list(x))\n",
    "dataset.Prices = dataset.Prices.apply(lambda x : string_to_list(x))\n",
    "dataset['Best picks'] = dataset['Best picks'].apply(lambda x : string_to_list(x))"
   ]
  },
  {
   "cell_type": "markdown",
   "metadata": {
    "id": "61go4NeA7gZU"
   },
   "source": [
    "Now it's time to implement the search algorithms. For each algorithm, a template is provided to you. You can modify this template if you want. But first you should try to go look at all the parameters used, as they are all important. You can also define any number of auxiliary functions you want.\n"
   ]
  },
  {
   "cell_type": "markdown",
   "metadata": {
    "id": "0ER3-7di7ufy"
   },
   "source": [
    "**4. Generate and Test**\n",
    "\n",
    "In our generate and test program, we run a recursive method to compare the bag value with inclusion and exclusion of every item against every other item. This effectively creates every possible knapsack and guarantees a valid highest value solution will be found and will match our solution set for our problem set."
   ]
  },
  {
   "cell_type": "code",
   "execution_count": 30,
   "metadata": {
    "id": "FqN5dVe7haO0"
   },
   "outputs": [],
   "source": [
    "'''\n",
    "In gen and test, we use recursion to compare every sub-bag \n",
    "to each other and get the best bag.out of all bags\n",
    "'''\n",
    "def gen_and_test(data):\n",
    "    weights = data['Weights']\n",
    "    prices = data['Prices']\n",
    "    capacity = data['Capacity']\n",
    "    best_solution = [0]*len(prices)\n",
    "    best_solution_price = 0\n",
    "    \n",
    "    def recurse(cap, item_weight, item_val, item_number):\n",
    "         # base case\n",
    "        if item_number == -1 or cap == 0:\n",
    "            return 0\n",
    "        n = item_number - 1\n",
    "        # item won't fit in current state of bag\n",
    "        if item_weight > cap:\n",
    "            return recurse(cap, weights[n], prices[n], n)\n",
    "        else:\n",
    "            # pick the bag that will return higher value\n",
    "            include = item_val + recurse(cap - item_weight, weights[n], prices[n], n)\n",
    "            exclude = recurse(cap, weights[n], prices[n], n)\n",
    "            # if we include this item, set its value in the solution array to 1.\n",
    "            if include > exclude:\n",
    "                best_solution[item_number] = 1\n",
    "            return max(include, exclude)\n",
    "    \n",
    "    last_item = len(prices) - 1\n",
    "    best_solution_price = recurse(capacity, weights[last_item], prices[last_item], last_item)\n",
    "    return best_solution_price, best_solution\n",
    "\n"
   ]
  },
  {
   "cell_type": "code",
   "execution_count": 31,
   "metadata": {
    "id": "xQyI_WRShaO0"
   },
   "outputs": [],
   "source": [
    "solutions = []\n",
    "for _, row in dataset.iterrows():\n",
    "    target = row['Best price']\n",
    "    solution, indexes = gen_and_test(row)\n",
    "    solutions.append(1 if target == solution else 0)\n"
   ]
  },
  {
   "cell_type": "code",
   "execution_count": 32,
   "metadata": {
    "id": "yodeAYV3haO0"
   },
   "outputs": [
    {
     "name": "stdout",
     "output_type": "stream",
     "text": [
      "Accuracy of best prices found is 1.0\n"
     ]
    }
   ],
   "source": [
    "# Accuracy\n",
    "print('Accuracy of best prices found is', np.mean(solutions))"
   ]
  },
  {
   "cell_type": "markdown",
   "metadata": {
    "id": "sgYGIJMd-atd"
   },
   "source": [
    "**Your Analysis:**\n",
    "\n",
    "our gen and test has an accuracy of 1.0. Since we compare every possible instance of knapsacks and our algorithm always finds the best solution, we trust our dataset to be accurate. "
   ]
  },
  {
   "cell_type": "markdown",
   "metadata": {
    "id": "5rQYdUQx-dGi"
   },
   "source": [
    "------------------------------------------------------------------------------------------------"
   ]
  },
  {
   "cell_type": "markdown",
   "metadata": {
    "id": "z8_ipXOGhaO1"
   },
   "source": [
    "**5. Greedy Search**\n",
    "\n",
    "When performing a greedy search, we fill the bag one item at a time. If the bag is more valuable with the item in it than without it (and the next item instead), we keep it. We stop filling the bag when there are no more items or there is no more space in the bag."
   ]
  },
  {
   "cell_type": "code",
   "execution_count": 33,
   "metadata": {
    "id": "bAfwGLDkhaO2"
   },
   "outputs": [],
   "source": [
    "def greedy(data):\n",
    "\tweights = data['Weights']\n",
    "\tprices = data['Prices']\n",
    "\tcapacity = data['Capacity']\n",
    "\tbest_solution = np.zeros(len(prices))\n",
    "\n",
    "\t# Get ratio of prices to weights and sorts them in descending order\n",
    "\tratiosort = np.argsort(np.divide(prices, weights))[::-1]\n",
    "\t\n",
    "\tfor index in ratiosort:\n",
    "\n",
    "\t\t# Adds item to solution if item does not exceed cap\n",
    "\t\tif capacity - weights[index] >= 0:\n",
    "\t\t\tcapacity -= weights[index]\n",
    "\t\t\tbest_solution[index] = 1\n",
    "\n",
    "\treturn sum(np.where(best_solution == 1, prices, 0)), best_solution\n"
   ]
  },
  {
   "cell_type": "code",
   "execution_count": 34,
   "metadata": {
    "id": "QeS54aqAhwhU",
    "scrolled": true
   },
   "outputs": [],
   "source": [
    "solutions_greedy = []\n",
    "for _, row in dataset.iterrows():\n",
    "    target = row['Best price']\n",
    "    solution, indexes = greedy(row)\n",
    "    solutions_greedy.append(1 if target == solution else 0)"
   ]
  },
  {
   "cell_type": "code",
   "execution_count": 35,
   "metadata": {
    "id": "xWqCDMs-h0SX"
   },
   "outputs": [
    {
     "name": "stdout",
     "output_type": "stream",
     "text": [
      "Greedy Accuracy is 0.8342949691264298\n"
     ]
    }
   ],
   "source": [
    "print(\"Greedy Accuracy is\", np.mean(solutions_greedy))"
   ]
  },
  {
   "cell_type": "markdown",
   "metadata": {
    "id": "0DKep6e5-nuz"
   },
   "source": [
    "**Your Analysis:**"
   ]
  },
  {
   "cell_type": "markdown",
   "metadata": {},
   "source": [
    "Running the Greedy Algorithm gives us an overall accuracy of 83.4%. The accuracy is quite high, but there are some cases that greedy will fail to obtain the optimal result. An example is shown below:\n",
    "\n",
    "Capactiy = 50\n",
    "\n",
    "|Objects|1|2|3|\n",
    "|---|---|---|---|\n",
    "|Profits|60|100|120|\n",
    "|Weights|10|20|30|\n",
    "|Ratios|6|5|4|\n",
    "\n",
    "The greedy algorithm will choose objects 1 and 2 for its \"optimal\" solution, with the final price being 160. However, choosing objects 5 and 4 is the best solution, as it has a better price (220).\n",
    "\n",
    "Since the algorithm is deterministic, it will also always have the same accuracy every time the algorithm is run, as it is producing the same results each time, due to there being no randomness attributed to this approach."
   ]
  },
  {
   "cell_type": "markdown",
   "metadata": {
    "id": "XGBWQqlK-lra"
   },
   "source": [
    "------------------------------------------------------------------------------------------------"
   ]
  },
  {
   "cell_type": "markdown",
   "metadata": {
    "id": "PtDW2ja3R93S"
   },
   "source": [
    "**6. Simulated Annealing**\n",
    "\n",
    "Simulated Annealing aims to introduce randomness into our solution. Due to there potentially being local maxima, by introducing randomness we can explore other areas by accepting \"bad\" solutions at the beginning, and reject bad solutions as the \"temperature\" cools. This allows us to break out of local maximas and move towards an optimal solution."
   ]
  },
  {
   "cell_type": "code",
   "execution_count": 36,
   "metadata": {},
   "outputs": [],
   "source": [
    "import random as rand\n",
    "import math\n",
    "\n",
    "def accept(delta_energy, temperature):\n",
    "\t\n",
    "\t# Switching comparator since we are looking for increase in energy due to\n",
    "\t# us wanting to maximize price e.g. $15 is better than $12 therefore energy of 3\n",
    "\tif (delta_energy > 0):\n",
    "\t\treturn True\n",
    "\telse:\n",
    "\t\t# Again, we are removing the negative on delta energy due to us wanting \n",
    "\t\t# a positive energy change.\n",
    "\t\treturn rand.random() < math.exp(delta_energy/temperature)\n",
    "\t\t\t"
   ]
  },
  {
   "cell_type": "code",
   "execution_count": 37,
   "metadata": {
    "id": "7rFhuXedSF_3"
   },
   "outputs": [],
   "source": [
    "from numpy import random\n",
    "\n",
    "def simulated_annealing(data, N, initial_temperature, cooling_rate):\n",
    "\tweights = data['Weights']\n",
    "\tprices = data['Prices']\n",
    "\tcapacity = data['Capacity']\n",
    "\t\n",
    "\ttemperature = initial_temperature\n",
    "\n",
    "\t# Initialize initial solution\n",
    "\tinitial_picks = np.zeros(len(prices))\n",
    "\n",
    "\t# Randomly pick index to reduce bias, as iterating normally\n",
    "\t# there is a high chance of the first elements being picked due to cap being max\n",
    "\tshuffled_indexes = random.default_rng().choice(len(prices), size=len(prices), replace=False)\n",
    "\tcap = capacity\n",
    "\n",
    "\tfor index in shuffled_indexes:\n",
    "\t\t# 50% chance to add to solution\n",
    "\t\tif random.randint(2) == 0 and cap - weights[index] >= 0:\n",
    "\t\t\tcap -= weights[index]\n",
    "\t\t\tinitial_picks[index] = 1\n",
    "\n",
    "\t# Calculate initial energy\n",
    "\tenergy = sum(np.where(initial_picks == 1, prices, 0))\n",
    "\n",
    "\titerations = 0\n",
    "\twhile temperature > 0.1 and iterations < N:\n",
    "\t\titerations += 1\n",
    "\n",
    "\t\t# Get neighboring potential solution\n",
    "\t\tnew_picks = np.copy(initial_picks)\n",
    "\t\t\n",
    "\t\t# Switches 0 to 1 and 1 to 0\n",
    "\t\tindex = random.randint(len(prices))\n",
    "\t\tnew_picks[index] = abs(new_picks[index] - 1)\n",
    "\n",
    "\t\t# Check if new picks does not overfill bag\n",
    "\t\tif sum(np.where(new_picks == 1, weights, 0)) > capacity:\n",
    "\n",
    "\t\t\t# Setting the fitness to an arbitrarily large negative number is better\n",
    "\t\t\t# than setting it to 0, as the accept function still could accept the invalid\n",
    "\t\t\t# solution out of pure randomness. This ensures that an invalid solution *never*\n",
    "\t\t\t# is able to be picked, as it lands outside the constraints of the problem and \n",
    "\t\t\t# should not be considered.\n",
    "\t\t\tnew_energy = -1000 * initial_temperature\n",
    "\t\telse:\n",
    "\t\t\tnew_energy = sum(np.where(new_picks == 1, prices, 0))\n",
    "\t\t\n",
    "\t\tdelta_energy = new_energy - energy\n",
    "\n",
    "\t\tif accept(delta_energy, temperature):\n",
    "\t\t\tinitial_picks = np.copy(new_picks)\n",
    "\t\t\tenergy = new_energy\n",
    "\t\t\n",
    "\t\ttemperature *= cooling_rate\n",
    "\n",
    "\treturn sum(np.where(initial_picks == 1, prices, 0)), initial_picks"
   ]
  },
  {
   "cell_type": "markdown",
   "metadata": {},
   "source": [
    "Note: Since we are testing multiple different params, this algo takes a bit of time to run (~2m). It is not hung."
   ]
  },
  {
   "cell_type": "code",
   "execution_count": 38,
   "metadata": {
    "id": "mAWQLNsESNIZ"
   },
   "outputs": [],
   "source": [
    "solutions_sa = []\n",
    "\n",
    "solutions_cooling_1 = []\n",
    "solutions_cooling_2 = []\n",
    "\n",
    "solutions_n_1 = []\n",
    "solutions_n_2 = []\n",
    "\n",
    "solutions_temp_1 = []\n",
    "solutions_temp_2 = []\n",
    "\n",
    "solutions_combined = []\n",
    "\n",
    "for _, row in dataset.iterrows():\n",
    "\ttarget = row['Best price']\n",
    "    \n",
    "\tsolution, indexes = simulated_annealing(row, N = 10, initial_temperature=1, cooling_rate=0.95)\n",
    "\tsolutions_sa.append(1 if target == solution else 0)\n",
    "    \n",
    "\tsolution, indexes = simulated_annealing(row, N = 10, initial_temperature=1, cooling_rate=0.99)\n",
    "\tsolutions_cooling_1.append(1 if target == solution else 0)\n",
    "\n",
    "\tsolution, indexes = simulated_annealing(row, N = 10, initial_temperature=1, cooling_rate=0.50)\n",
    "\tsolutions_cooling_2.append(1 if target == solution else 0)\n",
    "\n",
    "\tsolution, indexes = simulated_annealing(row, N = 100, initial_temperature=1, cooling_rate=0.95)\n",
    "\tsolutions_n_1.append(1 if target == solution else 0)\n",
    "\n",
    "\tsolution, indexes = simulated_annealing(row, N = 1000, initial_temperature=1, cooling_rate=0.95)\n",
    "\tsolutions_n_2.append(1 if target == solution else 0)\n",
    "\n",
    "\tsolution, indexes = simulated_annealing(row, N = 10, initial_temperature=100, cooling_rate=0.95)\n",
    "\tsolutions_temp_1.append(1 if target == solution else 0)\n",
    "\n",
    "\tsolution, indexes = simulated_annealing(row, N = 10, initial_temperature=500, cooling_rate=0.95)\n",
    "\tsolutions_temp_2.append(1 if target == solution else 0)\n",
    "\n",
    "\tsolution,indexes = simulated_annealing(row, N = 1000, initial_temperature=100, cooling_rate=0.99)\n",
    "\tsolutions_combined.append(1 if target == solution else 0)\n",
    "    \n"
   ]
  },
  {
   "cell_type": "code",
   "execution_count": 39,
   "metadata": {
    "id": "jUdWEABkhkih"
   },
   "outputs": [
    {
     "name": "stdout",
     "output_type": "stream",
     "text": [
      "Simulated Annealing Accuracy (Given Params) is 0.3911327057394473\n",
      "\n",
      "Simulated Annealing Accuracy (Cooling = 0.99) is 0.3869824881060836\n",
      "Simulated Annealing Accuracy (Cooling = 0.50) is 0.28798461382731044\n",
      "\n",
      "Simulated Annealing Accuracy (N = 100) is 0.45227249721631746\n",
      "Simulated Annealing Accuracy (N = 1000) is 0.4480210547626278\n",
      "\n",
      "Simulated Annealing Accuracy (Temp = 100) is 0.1424233221986031\n",
      "Simulated Annealing Accuracy (Temp = 1000) is 0.12157100921145865\n",
      "\n",
      "Simulated Annealing Accuracy (N = 1000, Temp = 100, Cooling = 0.99) is 0.7532138880453487\n"
     ]
    }
   ],
   "source": [
    "print(\"Simulated Annealing Accuracy (Given Params) is\", np.mean(solutions_sa))\n",
    "print(\"\")\n",
    "print(\"Simulated Annealing Accuracy (Cooling = 0.99) is\", np.mean(solutions_cooling_1))\n",
    "print(\"Simulated Annealing Accuracy (Cooling = 0.50) is\", np.mean(solutions_cooling_2))\n",
    "print(\"\")\n",
    "print(\"Simulated Annealing Accuracy (N = 100) is\", np.mean(solutions_n_1))\n",
    "print(\"Simulated Annealing Accuracy (N = 1000) is\", np.mean(solutions_n_2))\n",
    "print(\"\")\n",
    "print(\"Simulated Annealing Accuracy (Temp = 100) is\", np.mean(solutions_temp_1))\n",
    "print(\"Simulated Annealing Accuracy (Temp = 1000) is\", np.mean(solutions_temp_2))\n",
    "print(\"\")\n",
    "print(\"Simulated Annealing Accuracy (N = 1000, Temp = 100, Cooling = 0.99) is\", np.mean(solutions_combined))"
   ]
  },
  {
   "cell_type": "markdown",
   "metadata": {
    "id": "PvvpYOOr-qqr"
   },
   "source": [
    "**Your Analysis:**"
   ]
  },
  {
   "cell_type": "markdown",
   "metadata": {},
   "source": [
    "With the provided parameters, we get an over all accuracy of 38.8%. We can see that by increasing the cooling rate, we get better results, while decreasing the rate gives us a lower accuracy. \n",
    "\n",
    "Changing the number of iterations has diminishing returns: 10 -> 100 gives a ~4% increase while 100 -> 1000 barely changes. This can be attributed to N no longer being the limiting factor in the algorithm and allowing the temp to cool completley. \n",
    "\n",
    "Increasing temp decreases the accuracy by a lot, but this is expected - as N is limiting the amount of iterations, the algorithm does not have enough time to cool down. \n",
    "\n",
    "Changing multiple parameters (N = 1000, Temp = 100, Cooling = 0.99) gives us the best accuracy at 75%. This is due to N no longer being the limiting factor, as well as the algorithm being allowed to explore multiple different solutions before cooling down."
   ]
  },
  {
   "cell_type": "markdown",
   "metadata": {
    "id": "n0QXt7Ys-rCc"
   },
   "source": [
    "------------------------------------------------------------------------------------------------"
   ]
  },
  {
   "cell_type": "markdown",
   "metadata": {
    "id": "RHYjBUvVhtGV"
   },
   "source": [
    "**7. Genetic Algorithm**\n",
    "\n",
    "In our genetic algorithm, we start with a sample population of 50 possible knapsacks.  From this starting sample, we produce 50 generations of the same population size. These additional generations are created by running tournaments on the previous generation where the fittest members (having the highest value valid knapsack) go on to create children. Parents are paired up and create children that are either replicas of themselves or have crossed genes and/or random mutations based on mutation and crossover rate."
   ]
  },
  {
   "cell_type": "code",
   "execution_count": 40,
   "metadata": {
    "id": "5kGKKUN8iP30"
   },
   "outputs": [],
   "source": [
    "import random\n",
    "\n",
    "\n",
    "def calculate_fitness(ind, prices, weights, capacity):\n",
    "  # first we calculate the value and weight of possible solution\n",
    "  total_value = 0\n",
    "  total_weight = 0\n",
    "  for i in range(len(ind)):\n",
    "    total_value += prices[i] * int(ind[i])\n",
    "    total_weight += weights[i] * int(ind[i])\n",
    "  # if the possible solution is heavier than the capacity, it is not a valid solution\n",
    "  if total_weight > capacity:\n",
    "    return 0\n",
    "  # the fitness of our bag is its value.\n",
    "  return total_value\n",
    "\n",
    "\n",
    "def crossover(parent1, parent2, cross_rate):\n",
    "  # determine if we cross or not. If we don't, return parents unchanged.\n",
    "  if random.random() >= cross_rate:\n",
    "    return parent1, parent2\n",
    "  # make children from half of one parent and half of the other\n",
    "  # we use\n",
    "  child1 = parent1[:len(parent1) // 2] + parent2[len(parent1) // 2:]\n",
    "  child2 = parent2[:len(parent1) // 2] + parent1[len(parent1) // 2:]\n",
    "  return child1, child2\n",
    "\n",
    "\n",
    "def mutation(child, mut_rate):\n",
    "  for i in range(len(child)):\n",
    "    if random.random() < mut_rate:\n",
    "      child[i] = (child[i] + 1) % 2\n",
    "  return child\n",
    "\n",
    "\n",
    "# helper function to run tournament\n",
    "def tournament(population, tournament_size, prices, weights, capacity):\n",
    "  parents = []\n",
    "  # Select repeat tournaments until we have desired population\n",
    "  for _ in range(len(population)):\n",
    "    # randomize tournament selection\n",
    "    random.shuffle(population)\n",
    "    # pick winner in candidate population\n",
    "    valuable = 0\n",
    "    valuable_candidate = []\n",
    "    for candidate in population[:tournament_size]:\n",
    "      candidate_fitness = calculate_fitness(candidate, prices, weights,\n",
    "                                            capacity)\n",
    "      if candidate_fitness > valuable:\n",
    "        valuable_candidate = candidate\n",
    "      valuable = max(valuable, candidate_fitness)\n",
    "    parents.append(valuable_candidate)\n",
    "\n",
    "  return parents\n",
    "\n",
    "\n",
    "# helper function to create next generation\n",
    "def next_gen(population, tournament_size, cross_rate, mut_rate, prices,\n",
    "             weights, capacity):\n",
    "  next_gen = []\n",
    "\n",
    "  while len(next_gen) < len(population):\n",
    "    # pick best candidates to reproduce\n",
    "    parents = tournament(population, tournament_size, prices, weights,\n",
    "                         capacity)\n",
    "\n",
    "    for parent1, parent2 in zip(parents[::2], parents[1::2]):\n",
    "      child1, child2 = crossover(parent1, parent2, cross_rate)\n",
    "      child1 = mutation(child1, mut_rate)\n",
    "      child2 = mutation(child2, mut_rate)\n",
    "\n",
    "      next_gen.append(child1)\n",
    "      next_gen.append(child2)\n",
    "\n",
    "  return next_gen\n",
    "\n",
    "\n",
    "def genetic_algorithm(data, population_size, num_generations, mut_rate,\n",
    "                      cross_rate, tournament_size):\n",
    "  weights = data['Weights']\n",
    "  prices = data['Prices']\n",
    "  capacity = data['Capacity']\n",
    "  best_solution = [random.choice([0, 1]) for _ in range(len(prices))]\n",
    "  best_solution_price = calculate_fitness(best_solution, prices, weights,\n",
    "                                          capacity)\n",
    "  # generate members of the population randomly based on the population size we want.\n",
    "  population = [(random.choices([0, 1], k=len(prices)))\n",
    "                for _ in range(population_size)]\n",
    "\n",
    "  # reproduce until maximum generations are created.\n",
    "  for _ in range(num_generations):\n",
    "    population = next_gen(population, tournament_size, cross_rate, mut_rate,\n",
    "                          prices, weights, capacity)\n",
    "\n",
    "    max_individual = max(\n",
    "        population,\n",
    "        key=lambda x: calculate_fitness(x, prices, weights, capacity))\n",
    "    max_fitness = calculate_fitness(max_individual, prices, weights, capacity)\n",
    "    # save the best of the generation as solution\n",
    "    if max_fitness > best_solution_price:\n",
    "      best_solution_price = max_fitness\n",
    "      best_solution = max_individual\n",
    "  return best_solution_price, best_solution"
   ]
  },
  {
   "cell_type": "markdown",
   "metadata": {},
   "source": [
    "Note: This algorithm takes quite a bit of time to complete (~30 min). It is not hung."
   ]
  },
  {
   "cell_type": "code",
   "execution_count": 41,
   "metadata": {
    "id": "5b4hBtUijZzg"
   },
   "outputs": [
    {
     "name": "stdout",
     "output_type": "stream",
     "text": [
      "DONE :)\n"
     ]
    }
   ],
   "source": [
    "solutions_ga = []\n",
    "solutions_mut_higher = []\n",
    "solutions_mut_lower = []\n",
    "solutions_cross_higher = []\n",
    "solutions_cross_lower = []\n",
    "for _, row in dataset.iterrows():\n",
    "    target = row['Best price']\n",
    "    solution, indexes = genetic_algorithm(row, population_size = 50, num_generations = 50, mut_rate = 0.1, cross_rate = 0.7, tournament_size = 5)\n",
    "    solutions_ga.append(1 if target == solution else 0)\n",
    "    solution, indexes = genetic_algorithm(row, population_size = 50, num_generations = 50, mut_rate = 0.5, cross_rate = 0.7, tournament_size = 5)\n",
    "    solutions_mut_higher.append(1 if target == solution else 0)\n",
    "    solution, indexes = genetic_algorithm(row, population_size = 50, num_generations = 50, mut_rate = 0.0, cross_rate = 0.7, tournament_size = 5)\n",
    "    solutions_mut_lower.append(1 if target == solution else 0)\n",
    "    solution, indexes = genetic_algorithm(row, population_size = 50, num_generations = 50, mut_rate = 0.1, cross_rate = 0.9, tournament_size = 5)\n",
    "    solutions_cross_higher.append(1 if target == solution else 0)\n",
    "    solution, indexes = genetic_algorithm(row, population_size = 50, num_generations = 50, mut_rate = 0.1, cross_rate = 0.5, tournament_size = 5)\n",
    "    solutions_cross_lower.append(1 if target == solution else 0)\n",
    "print(\"DONE :)\")"
   ]
  },
  {
   "cell_type": "code",
   "execution_count": 42,
   "metadata": {
    "id": "hJ3ceIHSs-W-"
   },
   "outputs": [
    {
     "name": "stdout",
     "output_type": "stream",
     "text": [
      "Genetic Algorithm Accuracy is 0.9786415629112258\n",
      "Genetic Algorithm with a higher mutation rate Accuracy is 0.8959408847049296\n",
      "Genetic Algorithm with lower mutation rate Accuracy is 0.9102135843708877\n",
      "Genetic Algorithm Accuracy with higher cross rate is 0.9812734082397003\n",
      "Genetic Algorithm Accuracy with lower cross rate is 0.965786010729831\n"
     ]
    }
   ],
   "source": [
    "print(\"Genetic Algorithm Accuracy is\", np.mean(solutions_ga))\n",
    "print(\"Genetic Algorithm with a higher mutation rate Accuracy is\", np.mean(solutions_mut_higher))\n",
    "print(\"Genetic Algorithm with lower mutation rate Accuracy is\", np.mean(solutions_mut_lower))\n",
    "print(\"Genetic Algorithm Accuracy with higher cross rate is\", np.mean(solutions_cross_higher))\n",
    "print(\"Genetic Algorithm Accuracy with lower cross rate is\", np.mean(solutions_cross_lower))"
   ]
  },
  {
   "cell_type": "markdown",
   "metadata": {
    "id": "5yn8KLah-xGF"
   },
   "source": [
    "**Your Analysis:**\n",
    "Our base genetic algorithm had a success rate of ~97% showing that it is incredibly accurate and certainly an improvement on each iteration of our greedy algorithm. We also decided to change around the mutation and crossover rates and found mixed results.\n",
    "\n",
    "Increasing the mutation rate actually reduced the accuracy to ~89%. This makes sense, as we would be introducing more pure random changes to the next generation resulting in a higher likelihood of decreased fitness between generations.\n",
    "Reducing the mutation rate to none also reduced accuracy. While it was marginally better (~91%) compared to increased mutation for the reasons described above, it also means that minimally new combinations are introduced each generation as more and more are direct descendants are of the same few parents.\n",
    "\n",
    "Changing the cross over rate seemed to change accuracy minimally. Increasing the crossover rate marginally increased the accuracy (~98%) while lowering the crossover rate marginally decreased the crossover rate (~97%). This implies that as long as there are crossovers, accuracy remains high. This tracks the motivation of the algorithm in which we want to propogate successful parents and crossovers allow us to propogate multiple high fitness \"genes\" (our item choices)."
   ]
  },
  {
   "cell_type": "markdown",
   "metadata": {
    "id": "ekb0LOgF-xUN"
   },
   "source": [
    "------------------------------------------------------------------------------------------------"
   ]
  },
  {
   "cell_type": "markdown",
   "metadata": {
    "id": "NdO_H-4t-6mg"
   },
   "source": [
    "**8. Comparative Study**\n",
    "\n",
    "### Accuracy Comparison"
   ]
  },
  {
   "cell_type": "code",
   "execution_count": 55,
   "metadata": {},
   "outputs": [
    {
     "data": {
      "image/png": "[encoded data removed]",
      "text/plain": [
       "<Figure size 640x480 with 1 Axes>"
      ]
     },
     "metadata": {},
     "output_type": "display_data"
    }
   ],
   "source": [
    "df = pd.DataFrame({\n",
    "\t'Algorithms': ['Generate and Test', 'Greedy', 'Simulated Annealing', 'Genetic'], \n",
    "\t'Accuracy (%)': [np.mean(solutions) * 100, np.mean(solutions_greedy) * 100, np.mean(solutions_combined) * 100, np.mean(solutions_cross_higher) * 100]\n",
    "})\n",
    "\n",
    "ax = df.plot.bar(x='Algorithms', y='Accuracy (%)', title='Comparison of Algorithm Accuracy', rot=0)"
   ]
  },
  {
   "cell_type": "code",
   "execution_count": 56,
   "metadata": {},
   "outputs": [
    {
     "data": {
      "image/png": "[encoded data removed]",
      "text/plain": [
       "<Figure size 640x480 with 1 Axes>"
      ]
     },
     "metadata": {},
     "output_type": "display_data"
    }
   ],
   "source": [
    "higher = [np.mean(solutions_cooling_2) * 100, np.mean(solutions_n_2) * 100, np.mean(solutions_temp_2) * 100]\n",
    "lower = [np.mean(solutions_cooling_1) * 100, np.mean(solutions_n_1) * 100, np.mean(solutions_temp_1) * 100]\n",
    "\n",
    "index = ['Cooling', 'N', 'Temperature']\n",
    "\n",
    "df = pd.DataFrame(\n",
    "\t{\n",
    "\t\t'Higher Params': higher,\n",
    "\t\t'Lower Params': lower\n",
    "\t},\n",
    "\tindex=index\n",
    ")\n",
    "\n",
    "ax = df.plot.bar(rot=0, xlabel='Parameters', ylabel='Accuracy', title='Comparison of Simulated Annealing Parameter Accuracy')"
   ]
  },
  {
   "cell_type": "code",
   "execution_count": 57,
   "metadata": {},
   "outputs": [
    {
     "data": {
      "image/png": "[encoded data removed]",
      "text/plain": [
       "<Figure size 640x480 with 1 Axes>"
      ]
     },
     "metadata": {},
     "output_type": "display_data"
    }
   ],
   "source": [
    "higher = [np.mean(solutions_mut_higher) * 100, np.mean(solutions_cross_higher) * 100]\n",
    "lower = [np.mean(solutions_mut_lower) * 100, np.mean(solutions_cross_lower) * 100]\n",
    "\n",
    "index = ['Mutation', 'Cross']\n",
    "\n",
    "df = pd.DataFrame(\n",
    "\t{\n",
    "\t\t'Higher Params': higher,\n",
    "\t\t'Lower Params': lower\n",
    "\t},\n",
    "\tindex=index\n",
    ")\n",
    "\n",
    "ax = df.plot.bar(rot=0, xlabel='Parameters', ylabel='Accuracy', title='Comparison of Genetic Parameter Accuracy')"
   ]
  },
  {
   "cell_type": "markdown",
   "metadata": {
    "id": "4Ypp7TpkAIUe"
   },
   "source": [
    "--------------------------------------------------------------------------\n"
   ]
  },
  {
   "cell_type": "markdown",
   "metadata": {
    "id": "8Ikmq-si_23Y"
   },
   "source": [
    "**9. Conclusion**\n",
    "\n",
    "Comment on the empirical study, its results, and give ideas for future work."
   ]
  },
  {
   "cell_type": "markdown",
   "metadata": {
    "id": "41s8gvCNABDy"
   },
   "source": [
    "--------------------------------------------------------------------------\n"
   ]
  },
  {
   "cell_type": "markdown",
   "metadata": {
    "id": "PtbOgI1q_9a0"
   },
   "source": [
    "**10 References**\n",
    "\n",
    "- https://www.geeksforgeeks.org/0-1-knapsack-problem-dp-10/\n",
    "\n",
    "- https://arpitbhayani.me/blogs/genetic-knapsack/\n",
    "\n",
    "- https://www.kaggle.com/datasets/warcoder/knapsack-problem?resource=download\n",
    "\n",
    "Make sure you provide references to ALL sources used (articles, code, algorithms)."
   ]
  },
  {
   "cell_type": "markdown",
   "metadata": {
    "id": "zF9cuDJqF75q"
   },
   "source": [
    "**Hint:** To share a link to your colab notebook, click on \"share\" on the top right. Then, under *General access* , change *Restricted* to \"Anyone with the link\"."
   ]
  }
 ],
 "metadata": {
  "colab": {
   "provenance": []
  },
  "kernelspec": {
   "display_name": "Python 3 (ipykernel)",
   "language": "python",
   "name": "python3"
  },
  "language_info": {
   "codemirror_mode": {
    "name": "ipython",
    "version": 3
   },
   "file_extension": ".py",
   "mimetype": "text/x-python",
   "name": "python",
   "nbconvert_exporter": "python",
   "pygments_lexer": "ipython3",
   "version": "3.11.0"
  }
 },
 "nbformat": 4,
 "nbformat_minor": 4
}
