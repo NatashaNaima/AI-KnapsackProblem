{
 "cells": [
  {
   "cell_type": "markdown",
   "metadata": {
    "id": "SPeulvp-meob"
   },
   "source": [
    "**ASSIGNMENT 1 - EMPIRICAL STUDY OF KNAPSACK PROBLEM**"
   ]
  },
  {
   "cell_type": "markdown",
   "metadata": {
    "id": "f2Eeke4Z_EkW"
   },
   "source": [
    "**1. Group Description**\n",
    "\n",
    "Group Number: \\\\\n",
    "Member Names: Natasha Hussain | Daanish Khan\n",
    "Member Student Numbers: 300122562 | 300126840"
   ]
  },
  {
   "cell_type": "markdown",
   "metadata": {
    "id": "Yq6OGiMX_da0"
   },
   "source": [
    "**2. Knapsack Problem**\n",
    "\n",
    "Give a description of the problem tackled."
   ]
  },
  {
   "cell_type": "markdown",
   "metadata": {
    "id": "C8vwHE0G_iOG"
   },
   "source": [
    "**3. Dataset**\n",
    "\n",
    "Give a description of the dataset used with references.  "
   ]
  },
  {
   "cell_type": "markdown",
   "metadata": {
    "id": "OZTWy1qN2BzY"
   },
   "source": [
    "**Import important libraries**"
   ]
  },
  {
   "cell_type": "code",
   "execution_count": 1,
   "metadata": {
    "id": "GmP1buROhaOx"
   },
   "outputs": [],
   "source": [
    "import pandas as pd\n",
    "import itertools\n",
    "import numpy as np"
   ]
  },
  {
   "cell_type": "markdown",
   "metadata": {
    "id": "wNJyoeCz00Kr"
   },
   "source": [
    "**Read Dataset**\n",
    "\n",
    "As outlined in the project description, it should be possible for the correctors to execute your notebook without requiring any downloads.\n",
    "\n",
    "To facilitate access to the dataset without the need for downloads, you can upload it to a public GitHub repository and provide a link to the raw version of the dataset.\n",
    "\n",
    "The link to the raw version is as follows:\n",
    "*https://raw.githubusercontent.com/NatashaNaima/AI-KnapsackProblem/main/knapsack_5_items.csv*\n",
    "\n",
    "For example:\n",
    "\n",
    "https://raw.githubusercontent.com/baharin/KnapsackProblem/main/knapsack_5_items.csv\n",
    "\n",
    "Now provide the link to YOUR dataset and read the dataset using pandas:"
   ]
  },
  {
   "cell_type": "code",
   "execution_count": 2,
   "metadata": {
    "id": "BrhpM-HwhaOy"
   },
   "outputs": [],
   "source": [
    "url = 'https://raw.githubusercontent.com/NatashaNaima/AI-KnapsackProblem/main/knapsack_5_items.csv'\n",
    "dataset = pd.read_csv(url)"
   ]
  },
  {
   "cell_type": "markdown",
   "metadata": {
    "id": "4Drc71BY2a7w"
   },
   "source": [
    "Let's see what are the columns of the dataset? :"
   ]
  },
  {
   "cell_type": "code",
   "execution_count": 3,
   "metadata": {
    "colab": {
     "base_uri": "https://localhost:8080/"
    },
    "id": "pGxZXmhNhaOz",
    "outputId": "09bb8058-957c-4aae-fe50-de83e5a3b424"
   },
   "outputs": [
    {
     "data": {
      "text/plain": [
       "Index(['Weights', 'Prices', 'Capacity', 'Best picks', 'Best price'], dtype='object')"
      ]
     },
     "execution_count": 3,
     "metadata": {},
     "output_type": "execute_result"
    }
   ],
   "source": [
    "dataset.columns"
   ]
  },
  {
   "cell_type": "markdown",
   "metadata": {
    "id": "aNZaqcCT2w-T"
   },
   "source": [
    "As we expected, we have columns for weights, costs, capacity, best picks and best price for all the instances."
   ]
  },
  {
   "cell_type": "markdown",
   "metadata": {
    "id": "jkokOHRj2kgZ"
   },
   "source": [
    "Now let's see the first 10 entries (rows):"
   ]
  },
  {
   "cell_type": "code",
   "execution_count": 4,
   "metadata": {
    "colab": {
     "base_uri": "https://localhost:8080/",
     "height": 363
    },
    "id": "0xqfPrBEhaOz",
    "outputId": "4376de03-1214-492f-ba5e-304f9f0f1129"
   },
   "outputs": [
    {
     "data": {
      "text/html": [
       "<div>\n",
       "<style scoped>\n",
       "    .dataframe tbody tr th:only-of-type {\n",
       "        vertical-align: middle;\n",
       "    }\n",
       "\n",
       "    .dataframe tbody tr th {\n",
       "        vertical-align: top;\n",
       "    }\n",
       "\n",
       "    .dataframe thead th {\n",
       "        text-align: right;\n",
       "    }\n",
       "</style>\n",
       "<table border=\"1\" class=\"dataframe\">\n",
       "  <thead>\n",
       "    <tr style=\"text-align: right;\">\n",
       "      <th></th>\n",
       "      <th>Weights</th>\n",
       "      <th>Prices</th>\n",
       "      <th>Capacity</th>\n",
       "      <th>Best picks</th>\n",
       "      <th>Best price</th>\n",
       "    </tr>\n",
       "  </thead>\n",
       "  <tbody>\n",
       "    <tr>\n",
       "      <th>0</th>\n",
       "      <td>[46 40 42 38 10]</td>\n",
       "      <td>[12 19 19 15  8]</td>\n",
       "      <td>40</td>\n",
       "      <td>[0. 1. 0. 0. 0.]</td>\n",
       "      <td>19.0</td>\n",
       "    </tr>\n",
       "    <tr>\n",
       "      <th>1</th>\n",
       "      <td>[11 31  4  6  7]</td>\n",
       "      <td>[ 2  8 18 16  3]</td>\n",
       "      <td>64</td>\n",
       "      <td>[1. 1. 1. 1. 1.]</td>\n",
       "      <td>47.0</td>\n",
       "    </tr>\n",
       "    <tr>\n",
       "      <th>2</th>\n",
       "      <td>[32 49 27 37 24]</td>\n",
       "      <td>[19 16 16  4  1]</td>\n",
       "      <td>87</td>\n",
       "      <td>[1. 0. 1. 0. 1.]</td>\n",
       "      <td>36.0</td>\n",
       "    </tr>\n",
       "    <tr>\n",
       "      <th>3</th>\n",
       "      <td>[20 35 22 23 16]</td>\n",
       "      <td>[19 17 19  9  1]</td>\n",
       "      <td>21</td>\n",
       "      <td>[1. 0. 0. 0. 0.]</td>\n",
       "      <td>19.0</td>\n",
       "    </tr>\n",
       "    <tr>\n",
       "      <th>4</th>\n",
       "      <td>[ 7 12 19 13 20]</td>\n",
       "      <td>[10 11 18 15  5]</td>\n",
       "      <td>50</td>\n",
       "      <td>[0. 1. 1. 1. 0.]</td>\n",
       "      <td>44.0</td>\n",
       "    </tr>\n",
       "    <tr>\n",
       "      <th>5</th>\n",
       "      <td>[27 10 25 25  7]</td>\n",
       "      <td>[13 19  7 16  3]</td>\n",
       "      <td>66</td>\n",
       "      <td>[1. 1. 0. 1. 0.]</td>\n",
       "      <td>48.0</td>\n",
       "    </tr>\n",
       "    <tr>\n",
       "      <th>6</th>\n",
       "      <td>[21  2 33 45 26]</td>\n",
       "      <td>[ 1 14 10  6 13]</td>\n",
       "      <td>80</td>\n",
       "      <td>[0. 1. 1. 0. 1.]</td>\n",
       "      <td>37.0</td>\n",
       "    </tr>\n",
       "    <tr>\n",
       "      <th>7</th>\n",
       "      <td>[37 27 39 14 25]</td>\n",
       "      <td>[18  7 15  4 13]</td>\n",
       "      <td>35</td>\n",
       "      <td>[0. 0. 0. 0. 1.]</td>\n",
       "      <td>13.0</td>\n",
       "    </tr>\n",
       "    <tr>\n",
       "      <th>8</th>\n",
       "      <td>[ 1 48  4 23 39]</td>\n",
       "      <td>[ 9  4 10 16 12]</td>\n",
       "      <td>51</td>\n",
       "      <td>[1. 0. 1. 1. 0.]</td>\n",
       "      <td>35.0</td>\n",
       "    </tr>\n",
       "    <tr>\n",
       "      <th>9</th>\n",
       "      <td>[ 4  3 22  9 32]</td>\n",
       "      <td>[14  6  3 17  8]</td>\n",
       "      <td>53</td>\n",
       "      <td>[1. 1. 0. 1. 1.]</td>\n",
       "      <td>45.0</td>\n",
       "    </tr>\n",
       "  </tbody>\n",
       "</table>\n",
       "</div>"
      ],
      "text/plain": [
       "            Weights            Prices  Capacity        Best picks  Best price\n",
       "0  [46 40 42 38 10]  [12 19 19 15  8]        40  [0. 1. 0. 0. 0.]        19.0\n",
       "1  [11 31  4  6  7]  [ 2  8 18 16  3]        64  [1. 1. 1. 1. 1.]        47.0\n",
       "2  [32 49 27 37 24]  [19 16 16  4  1]        87  [1. 0. 1. 0. 1.]        36.0\n",
       "3  [20 35 22 23 16]  [19 17 19  9  1]        21  [1. 0. 0. 0. 0.]        19.0\n",
       "4  [ 7 12 19 13 20]  [10 11 18 15  5]        50  [0. 1. 1. 1. 0.]        44.0\n",
       "5  [27 10 25 25  7]  [13 19  7 16  3]        66  [1. 1. 0. 1. 0.]        48.0\n",
       "6  [21  2 33 45 26]  [ 1 14 10  6 13]        80  [0. 1. 1. 0. 1.]        37.0\n",
       "7  [37 27 39 14 25]  [18  7 15  4 13]        35  [0. 0. 0. 0. 1.]        13.0\n",
       "8  [ 1 48  4 23 39]  [ 9  4 10 16 12]        51  [1. 0. 1. 1. 0.]        35.0\n",
       "9  [ 4  3 22  9 32]  [14  6  3 17  8]        53  [1. 1. 0. 1. 1.]        45.0"
      ]
     },
     "execution_count": 4,
     "metadata": {},
     "output_type": "execute_result"
    }
   ],
   "source": [
    "dataset.head(10)"
   ]
  },
  {
   "cell_type": "markdown",
   "metadata": {
    "id": "1dq9VpZh2r2A"
   },
   "source": [
    "**Preprocessing Step**\n",
    "\n",
    "Typically, the initial step in any project that involves reading and handling data is data preprocessing and cleansing.\n",
    "\n",
    "In our dataset, we expect the entries in the \"Weights,\" \"Prices,\" and \"Best Picks\" columns to be in the form of arrays of floats or integers, like this: [45, 40, 42, 38, 10]\n",
    "\n",
    "However, when you read each entry using pandas, they will be in a form of a string: \"[45 40 42 38 10]\"\n",
    "\n",
    "So we need to convert these strings into \"arrays of floats or integers.\" You can utilize the function provided below for this purpose:\n"
   ]
  },
  {
   "cell_type": "code",
   "execution_count": 5,
   "metadata": {
    "id": "BmUtgrBchaOz"
   },
   "outputs": [],
   "source": [
    "def string_to_list(string):\n",
    "\n",
    "  string_list = string.strip('[]').split()\n",
    "\n",
    "  float_list = [float(element) for element in string_list]\n",
    "\n",
    "  return float_list"
   ]
  },
  {
   "cell_type": "markdown",
   "metadata": {
    "id": "CP1nkMb27A4n"
   },
   "source": [
    "Furthermore, it's possible that certain rows in the dataset contain empty values in specific columns. We also aim to eliminate these rows as they do not provide any useful information. We use dropna() function to do so:"
   ]
  },
  {
   "cell_type": "code",
   "execution_count": 6,
   "metadata": {
    "id": "LT_iYgxhhaO0"
   },
   "outputs": [],
   "source": [
    "#Ignore the warning messages.\n",
    "\n",
    "dataset = dataset.dropna()\n",
    "\n",
    "dataset.Weights = dataset.Weights.apply(lambda x : string_to_list(x))\n",
    "dataset.Prices = dataset.Prices.apply(lambda x : string_to_list(x))\n",
    "dataset['Best picks'] = dataset['Best picks'].apply(lambda x : string_to_list(x))"
   ]
  },
  {
   "cell_type": "markdown",
   "metadata": {
    "id": "61go4NeA7gZU"
   },
   "source": [
    "Now it's time to implement the search algorithms. For each algorithm, a template is provided to you. You can modify this template if you want. But first you should try to go look at all the parameters used, as they are all important. You can also define any number of auxiliary functions you want.\n"
   ]
  },
  {
   "cell_type": "markdown",
   "metadata": {
    "id": "0ER3-7di7ufy"
   },
   "source": [
    "**4. Generate and Test**\n",
    "\n",
    "Give a description... Also, make sure that you put comments using your own words in the code to show that you understand the code that you are submitting."
   ]
  },
  {
   "cell_type": "code",
   "execution_count": 7,
   "metadata": {
    "id": "FqN5dVe7haO0"
   },
   "outputs": [],
   "source": [
    "'''\n",
    "In gen and test, we use recursion to compare every sub-bag \n",
    "to each other and get the best bag.out of all bags\n",
    "'''\n",
    "def gen_and_test(data):\n",
    "    weights = data['Weights']\n",
    "    prices = data['Prices']\n",
    "    capacity = data['Capacity']\n",
    "    best_solution = [0]*len(prices)\n",
    "    best_solution_price = 0\n",
    "    \n",
    "    def recurse(cap, item_weight, item_val, item_number):\n",
    "         # base case\n",
    "        if item_number == -1 or cap == 0:\n",
    "            return 0\n",
    "        n = item_number - 1\n",
    "        # item won't fit in current state of bag\n",
    "        if item_weight > cap:\n",
    "            return recurse(cap, weights[n], prices[n], n)\n",
    "        else:\n",
    "            # pick the bag that will return higher value\n",
    "            include = item_val + recurse(cap - item_weight, weights[n], prices[n], n)\n",
    "            exclude = recurse(cap, weights[n], prices[n], n)\n",
    "            # if we include this item, set its value in the solution array to 1.\n",
    "            if include > exclude:\n",
    "                best_solution[item_number] = 1\n",
    "            return max(include, exclude)\n",
    "    \n",
    "    last_item = len(prices) - 1\n",
    "    best_solution_price = recurse(capacity, weights[last_item], prices[last_item], last_item)\n",
    "    return best_solution_price, best_solution\n",
    "\n"
   ]
  },
  {
   "cell_type": "code",
   "execution_count": 8,
   "metadata": {
    "id": "xQyI_WRShaO0"
   },
   "outputs": [],
   "source": [
    "solutions = []\n",
    "for _, row in dataset.iterrows():\n",
    "    target = row['Best price']\n",
    "    solution, indexes = gen_and_test(row)\n",
    "    solutions.append(1 if target == solution else 0)\n"
   ]
  },
  {
   "cell_type": "code",
   "execution_count": 9,
   "metadata": {
    "id": "yodeAYV3haO0"
   },
   "outputs": [
    {
     "name": "stdout",
     "output_type": "stream",
     "text": [
      "Accuracy of best prices found is 1.0\n"
     ]
    }
   ],
   "source": [
    "# Accuracy\n",
    "print('Accuracy of best prices found is', np.mean(solutions))"
   ]
  },
  {
   "cell_type": "markdown",
   "metadata": {
    "id": "sgYGIJMd-atd"
   },
   "source": [
    "**Your Analysis:**\n",
    "\n",
    "our gen and test has an accuracy of 1.0. Since we compare every possible instance of knapsacks and our algorithm always finds the best solution, we trust our dataset to be accurate. "
   ]
  },
  {
   "cell_type": "markdown",
   "metadata": {
    "id": "5rQYdUQx-dGi"
   },
   "source": [
    "------------------------------------------------------------------------------------------------"
   ]
  },
  {
   "cell_type": "markdown",
   "metadata": {
    "id": "z8_ipXOGhaO1"
   },
   "source": [
    "**5. Greedy Search**\n",
    "\n",
    "When performing a greedy search, we fill the bag one item at a time. If the bag is more valuable with the item in it than without it (and the next item instead), we keep it. We stop filling the bag when there are no more items or there is no more space in the bag."
   ]
  },
  {
   "cell_type": "code",
   "execution_count": 10,
   "metadata": {
    "id": "bAfwGLDkhaO2"
   },
   "outputs": [],
   "source": [
    "def greedy(data):\n",
    "    \n",
    "    return best_solution_price, best_solution\n"
   ]
  },
  {
   "cell_type": "code",
   "execution_count": 11,
   "metadata": {
    "id": "QeS54aqAhwhU",
    "scrolled": true
   },
   "outputs": [
    {
     "ename": "NameError",
     "evalue": "name 'best_solution_price' is not defined",
     "output_type": "error",
     "traceback": [
      "\u001b[0;31m---------------------------------------------------------------------------\u001b[0m",
      "\u001b[0;31mNameError\u001b[0m                                 Traceback (most recent call last)",
      "Cell \u001b[0;32mIn[11], line 4\u001b[0m\n\u001b[1;32m      2\u001b[0m \u001b[38;5;28;01mfor\u001b[39;00m _, row \u001b[38;5;129;01min\u001b[39;00m dataset\u001b[38;5;241m.\u001b[39miterrows():\n\u001b[1;32m      3\u001b[0m     target \u001b[38;5;241m=\u001b[39m row[\u001b[38;5;124m'\u001b[39m\u001b[38;5;124mBest price\u001b[39m\u001b[38;5;124m'\u001b[39m]\n\u001b[0;32m----> 4\u001b[0m     solution, indexes \u001b[38;5;241m=\u001b[39m \u001b[43mgreedy\u001b[49m\u001b[43m(\u001b[49m\u001b[43mrow\u001b[49m\u001b[43m)\u001b[49m\n\u001b[1;32m      5\u001b[0m     solutions_greedy\u001b[38;5;241m.\u001b[39mappend(\u001b[38;5;241m1\u001b[39m \u001b[38;5;28;01mif\u001b[39;00m target \u001b[38;5;241m==\u001b[39m solution \u001b[38;5;28;01melse\u001b[39;00m \u001b[38;5;241m0\u001b[39m)\n",
      "Cell \u001b[0;32mIn[10], line 3\u001b[0m, in \u001b[0;36mgreedy\u001b[0;34m(data)\u001b[0m\n\u001b[1;32m      1\u001b[0m \u001b[38;5;28;01mdef\u001b[39;00m \u001b[38;5;21mgreedy\u001b[39m(data):\n\u001b[0;32m----> 3\u001b[0m     \u001b[38;5;28;01mreturn\u001b[39;00m \u001b[43mbest_solution_price\u001b[49m, best_solution\n",
      "\u001b[0;31mNameError\u001b[0m: name 'best_solution_price' is not defined"
     ]
    }
   ],
   "source": [
    "solutions_greedy = []\n",
    "for _, row in dataset.iterrows():\n",
    "    target = row['Best price']\n",
    "    solution, indexes = greedy(row)\n",
    "    solutions_greedy.append(1 if target == solution else 0)"
   ]
  },
  {
   "cell_type": "code",
   "execution_count": null,
   "metadata": {
    "id": "xWqCDMs-h0SX"
   },
   "outputs": [],
   "source": [
    "print(\"Greedy Accuracy is\", np.mean(solutions_greedy))"
   ]
  },
  {
   "cell_type": "markdown",
   "metadata": {
    "id": "0DKep6e5-nuz"
   },
   "source": [
    "**Your Analysis:**"
   ]
  },
  {
   "cell_type": "markdown",
   "metadata": {
    "id": "XGBWQqlK-lra"
   },
   "source": [
    "------------------------------------------------------------------------------------------------"
   ]
  },
  {
   "cell_type": "markdown",
   "metadata": {
    "id": "PtDW2ja3R93S"
   },
   "source": [
    "**6. Simulated Annealing**\n",
    "\n",
    "Give a description... Also, make sure that you put comments using your own words in the code to show that you understand the code that you are submitting.\n"
   ]
  },
  {
   "cell_type": "code",
   "execution_count": null,
   "metadata": {},
   "outputs": [],
   "source": [
    "import random as rand\n",
    "import math\n",
    "\n",
    "def accept(delta_energy, temperature):\n",
    "\t\n",
    "\t# Switching comparator since we are looking for increase in energy due to\n",
    "\t# us wanting to maximize price e.g. $15 is better than $12 therefore energy of 3\n",
    "\tif (delta_energy > 0):\n",
    "\t\treturn True\n",
    "\telse:\n",
    "\t\t# Again, we are removing the negative on delta energy due to us wanting \n",
    "\t\t# a positive energy change.\n",
    "\t\treturn rand.random() < math.exp(delta_energy/temperature)\n",
    "\t\t\t"
   ]
  },
  {
   "cell_type": "code",
   "execution_count": null,
   "metadata": {
    "id": "7rFhuXedSF_3"
   },
   "outputs": [],
   "source": [
    "from numpy import random\n",
    "\n",
    "def simulated_annealing(data, N, initial_temperature, cooling_rate):\n",
    "\tweights = data['Weights']\n",
    "\tprices = data['Prices']\n",
    "\tcapacity = data['Capacity']\n",
    "\t\n",
    "\ttemperature = initial_temperature\n",
    "\n",
    "\t# Initialize initial solution\n",
    "\tinitial_picks = np.zeros(len(prices))\n",
    "\n",
    "\t# Randomly pick index to reduce bias, as iterating normally\n",
    "\t# there is a high chance of the first elements being picked due to cap being max\n",
    "\tshuffled_indexes = random.default_rng().choice(len(prices), size=len(prices), replace=False)\n",
    "\tcap = capacity\n",
    "\n",
    "\tfor index in shuffled_indexes:\n",
    "\t\t# 50% chance to add to solution\n",
    "\t\tif random.randint(2) == 0 and cap - weights[index] >= 0:\n",
    "\t\t\tcap -= weights[index]\n",
    "\t\t\tinitial_picks[index] = 1\n",
    "\n",
    "\t# Calculate initial energy\n",
    "\tenergy = sum(np.where(initial_picks == 1, prices, 0))\n",
    "\n",
    "\titerations = 0\n",
    "\twhile temperature > 0 and iterations < N:\n",
    "\t\titerations += 1\n",
    "\n",
    "\t\t# Get neighboring potential solution\n",
    "\t\tnew_picks = np.copy(initial_picks)\n",
    "\t\t\n",
    "\t\t# Switches 0 to 1 and 1 to 0\n",
    "\t\tindex = random.randint(len(prices))\n",
    "\t\tnew_picks[index] = abs(new_picks[index] - 1)\n",
    "\n",
    "\t\t# Check if new picks does not overfill bag\n",
    "\t\tif sum(np.where(new_picks == 1, weights, 0)) > capacity:\n",
    "\n",
    "\t\t\t# Setting the fitness to an arbitrarily large negative number is better\n",
    "\t\t\t# than setting it to 0, as the accept function still could accept the invalid\n",
    "\t\t\t# solution out of pure randomness. This ensures that an invalid solution *never*\n",
    "\t\t\t# is able to be picked, as it lands outside the constraints of the problem and \n",
    "\t\t\t# should not be considered.\n",
    "\t\t\tnew_energy = -1000 * initial_temperature\n",
    "\t\telse:\n",
    "\t\t\tnew_energy = sum(np.where(new_picks == 1, prices, 0))\n",
    "\t\t\n",
    "\t\tdelta_energy = new_energy - energy\n",
    "\n",
    "\t\tif accept(delta_energy, temperature):\n",
    "\t\t\tinitial_picks = np.copy(new_picks)\n",
    "\t\t\tenergy = new_energy\n",
    "\t\t\n",
    "\t\ttemperature *= cooling_rate\n",
    "\n",
    "\treturn sum(np.where(initial_picks == 1, prices, 0)), initial_picks"
   ]
  },
  {
   "cell_type": "code",
   "execution_count": null,
   "metadata": {
    "id": "mAWQLNsESNIZ"
   },
   "outputs": [],
   "source": [
    "solutions_sa = []\n",
    "for _, row in dataset.iterrows():\n",
    "    target = row['Best price']\n",
    "    solution, indexes = simulated_annealing(row, N = 10, initial_temperature=1, cooling_rate=0.95)\n",
    "    solutions_sa.append(1 if target == solution else 0)\n"
   ]
  },
  {
   "cell_type": "code",
   "execution_count": null,
   "metadata": {
    "id": "jUdWEABkhkih"
   },
   "outputs": [],
   "source": [
    "print(\"Simulated Annealing Accuracy is\", np.mean(solutions_sa))"
   ]
  },
  {
   "cell_type": "markdown",
   "metadata": {
    "id": "PvvpYOOr-qqr"
   },
   "source": [
    "**Your Analysis:**"
   ]
  },
  {
   "cell_type": "markdown",
   "metadata": {
    "id": "n0QXt7Ys-rCc"
   },
   "source": [
    "------------------------------------------------------------------------------------------------"
   ]
  },
  {
   "cell_type": "markdown",
   "metadata": {
    "id": "RHYjBUvVhtGV"
   },
   "source": [
    "**7. Genetic Algorithm**\n",
    "\n",
    "Give a description... Also, make sure that you put comments using your own words in the code to show that you understand the code that you are submitting."
   ]
  },
  {
   "cell_type": "code",
   "execution_count": 28,
   "metadata": {
    "id": "5kGKKUN8iP30"
   },
   "outputs": [],
   "source": [
    "import random\n",
    "\n",
    "def calculate_fitness(ind, prices, weights, capacity):\n",
    "    # first we calculate the value and weight of possible solution\n",
    "  total_value = 0\n",
    "  total_weight = 0\n",
    "  for i in range(len(ind)):\n",
    "      total_value += prices[i] * ind[i]\n",
    "      total_weight += weights[i] * ind[i]\n",
    "    # if the possible solution is heavier than the capacity, it is not a valid solution\n",
    "  if total_weight > capacity:\n",
    "      return 0\n",
    "    # the fitness of our bag is its value.\n",
    "  return total_value\n",
    "\n",
    "def crossover(parent1, parent2, cross_rate):\n",
    "     # determine if we cross or not. If we don't, return parents unchanged.\n",
    "    if random.random() >= cross_rate:\n",
    "        return parent1, parent2\n",
    "     # make children from half of one parent and half of the other\n",
    "     # we use \n",
    "    child1 = parent1[:len(parent1)//2] + parent2[len(parent1)//2:]\n",
    "    child2 = parent2[:len(parent1)//2] + parent1[len(parent1)//2:]   \n",
    "    return child1, child2\n",
    "\n",
    "def mutation(child, mut_rate):\n",
    "  for item in child:\n",
    "      if random.random() < mut_rate:\n",
    "          item = (item + 1) % 2\n",
    "  return child         \n",
    "\n",
    "# helper function to run tournament\n",
    "def tournament(population,tournament_size, prices, weights, capacity):\n",
    "    parents = []\n",
    "    # Select repeat tournaments until we have desired population\n",
    "    for _ in range(len(population)):\n",
    "        # randomize tournament selection\n",
    "        random.shuffle(population)\n",
    "        # pick winner in candidate population\n",
    "        parents.append(max(population[:tournament_size], key=lambda x: calculate_fitness(x, prices, weights, capacity)))\n",
    "    \n",
    "    return parents\n",
    "        \n",
    "# helper function to create next generation\n",
    "def next_gen(population, tournament_size, cross_rate, mut_rate, prices, weights, capacity):\n",
    "    next_gen = []\n",
    "\n",
    "    while len(next_gen) < len(population):\n",
    "        # pick best candidates to reproduce\n",
    "        parents = tournament(population, tournament_size, prices, weights, capacity)\n",
    "\n",
    "        for parent1, parent2 in zip(parents[::2], parents[1::2]):\n",
    "            child1, child2 = crossover(parent1, parent2, cross_rate)\n",
    "            child1 = mutation(child1, mut_rate)\n",
    "            child2 = mutation(child2, mut_rate)\n",
    "\n",
    "            next_gen.append(child1)\n",
    "            next_gen.append(child2)\n",
    "    \n",
    "    return next_gen\n",
    "def genetic_algorithm(data, population_size, num_generations, mut_rate, cross_rate, tournament_size):\n",
    "    weights = data['Weights']\n",
    "    prices = data['Prices']\n",
    "    capacity = data['Capacity']\n",
    "    best_solution = [0]*len(prices)\n",
    "    best_solution_price = 0\n",
    "     # generate members of the population randomly based on the population size we want.\n",
    "    population = [(random.choices([0, 1], k=len(prices)), 0) for _ in range(population_size)]\n",
    "\n",
    "    # reproduce until maximum generations are created.\n",
    "    for _ in range(num_generations):\n",
    "        population = next_gen(population, tournament_size, cross_rate, mut_rate, prices, weights, capacity)\n",
    "\n",
    "        index, max_value = max(enumerate(population), key=lambda x: calculate_fitness(x[1], prices, weights, capacity))\n",
    "        # save the best of the generation as solution\n",
    "        if max_value > best_solution_price:\n",
    "            best_solution_price = max_value\n",
    "            best_solution = population[index]\n",
    "            \n",
    "    return best_solution_price, best_solution"
   ]
  },
  {
   "cell_type": "code",
   "execution_count": 29,
   "metadata": {
    "id": "5b4hBtUijZzg"
   },
   "outputs": [
    {
     "ename": "TypeError",
     "evalue": "can't multiply sequence by non-int of type 'float'",
     "output_type": "error",
     "traceback": [
      "\u001b[0;31m---------------------------------------------------------------------------\u001b[0m",
      "\u001b[0;31mTypeError\u001b[0m                                 Traceback (most recent call last)",
      "Cell \u001b[0;32mIn[29], line 4\u001b[0m\n\u001b[1;32m      2\u001b[0m \u001b[38;5;28;01mfor\u001b[39;00m _, row \u001b[38;5;129;01min\u001b[39;00m dataset\u001b[38;5;241m.\u001b[39miterrows():\n\u001b[1;32m      3\u001b[0m     target \u001b[38;5;241m=\u001b[39m row[\u001b[38;5;124m'\u001b[39m\u001b[38;5;124mBest price\u001b[39m\u001b[38;5;124m'\u001b[39m]\n\u001b[0;32m----> 4\u001b[0m     solution, indexes \u001b[38;5;241m=\u001b[39m \u001b[43mgenetic_algorithm\u001b[49m\u001b[43m(\u001b[49m\u001b[43mrow\u001b[49m\u001b[43m,\u001b[49m\u001b[43m \u001b[49m\u001b[43mpopulation_size\u001b[49m\u001b[43m \u001b[49m\u001b[38;5;241;43m=\u001b[39;49m\u001b[43m \u001b[49m\u001b[38;5;241;43m50\u001b[39;49m\u001b[43m,\u001b[49m\u001b[43m \u001b[49m\u001b[43mnum_generations\u001b[49m\u001b[43m \u001b[49m\u001b[38;5;241;43m=\u001b[39;49m\u001b[43m \u001b[49m\u001b[38;5;241;43m50\u001b[39;49m\u001b[43m,\u001b[49m\u001b[43m \u001b[49m\u001b[43mmut_rate\u001b[49m\u001b[43m \u001b[49m\u001b[38;5;241;43m=\u001b[39;49m\u001b[43m \u001b[49m\u001b[38;5;241;43m0.1\u001b[39;49m\u001b[43m,\u001b[49m\u001b[43m \u001b[49m\u001b[43mcross_rate\u001b[49m\u001b[43m \u001b[49m\u001b[38;5;241;43m=\u001b[39;49m\u001b[43m \u001b[49m\u001b[38;5;241;43m0.7\u001b[39;49m\u001b[43m,\u001b[49m\u001b[43m \u001b[49m\u001b[43mtournament_size\u001b[49m\u001b[43m \u001b[49m\u001b[38;5;241;43m=\u001b[39;49m\u001b[43m \u001b[49m\u001b[38;5;241;43m5\u001b[39;49m\u001b[43m)\u001b[49m\n\u001b[1;32m      5\u001b[0m     solutions_ga\u001b[38;5;241m.\u001b[39mappend(\u001b[38;5;241m1\u001b[39m \u001b[38;5;28;01mif\u001b[39;00m target \u001b[38;5;241m==\u001b[39m solution \u001b[38;5;28;01melse\u001b[39;00m \u001b[38;5;241m0\u001b[39m)\n",
      "Cell \u001b[0;32mIn[28], line 72\u001b[0m, in \u001b[0;36mgenetic_algorithm\u001b[0;34m(data, population_size, num_generations, mut_rate, cross_rate, tournament_size)\u001b[0m\n\u001b[1;32m     70\u001b[0m \u001b[38;5;66;03m# reproduce until maximum generations are created.\u001b[39;00m\n\u001b[1;32m     71\u001b[0m \u001b[38;5;28;01mfor\u001b[39;00m _ \u001b[38;5;129;01min\u001b[39;00m \u001b[38;5;28mrange\u001b[39m(num_generations):\n\u001b[0;32m---> 72\u001b[0m     population \u001b[38;5;241m=\u001b[39m \u001b[43mnext_gen\u001b[49m\u001b[43m(\u001b[49m\u001b[43mpopulation\u001b[49m\u001b[43m,\u001b[49m\u001b[43m \u001b[49m\u001b[43mtournament_size\u001b[49m\u001b[43m,\u001b[49m\u001b[43m \u001b[49m\u001b[43mcross_rate\u001b[49m\u001b[43m,\u001b[49m\u001b[43m \u001b[49m\u001b[43mmut_rate\u001b[49m\u001b[43m,\u001b[49m\u001b[43m \u001b[49m\u001b[43mprices\u001b[49m\u001b[43m,\u001b[49m\u001b[43m \u001b[49m\u001b[43mweights\u001b[49m\u001b[43m,\u001b[49m\u001b[43m \u001b[49m\u001b[43mcapacity\u001b[49m\u001b[43m)\u001b[49m\n\u001b[1;32m     74\u001b[0m     index, max_value \u001b[38;5;241m=\u001b[39m \u001b[38;5;28mmax\u001b[39m(\u001b[38;5;28menumerate\u001b[39m(population), key\u001b[38;5;241m=\u001b[39m\u001b[38;5;28;01mlambda\u001b[39;00m x: calculate_fitness(x[\u001b[38;5;241m1\u001b[39m], prices, weights, capacity))\n\u001b[1;32m     75\u001b[0m     \u001b[38;5;66;03m# save the best of the generation as solution\u001b[39;00m\n",
      "Cell \u001b[0;32mIn[28], line 50\u001b[0m, in \u001b[0;36mnext_gen\u001b[0;34m(population, tournament_size, cross_rate, mut_rate, prices, weights, capacity)\u001b[0m\n\u001b[1;32m     46\u001b[0m next_gen \u001b[38;5;241m=\u001b[39m []\n\u001b[1;32m     48\u001b[0m \u001b[38;5;28;01mwhile\u001b[39;00m \u001b[38;5;28mlen\u001b[39m(next_gen) \u001b[38;5;241m<\u001b[39m \u001b[38;5;28mlen\u001b[39m(population):\n\u001b[1;32m     49\u001b[0m     \u001b[38;5;66;03m# pick best candidates to reproduce\u001b[39;00m\n\u001b[0;32m---> 50\u001b[0m     parents \u001b[38;5;241m=\u001b[39m \u001b[43mtournament\u001b[49m\u001b[43m(\u001b[49m\u001b[43mpopulation\u001b[49m\u001b[43m,\u001b[49m\u001b[43m \u001b[49m\u001b[43mtournament_size\u001b[49m\u001b[43m,\u001b[49m\u001b[43m \u001b[49m\u001b[43mprices\u001b[49m\u001b[43m,\u001b[49m\u001b[43m \u001b[49m\u001b[43mweights\u001b[49m\u001b[43m,\u001b[49m\u001b[43m \u001b[49m\u001b[43mcapacity\u001b[49m\u001b[43m)\u001b[49m\n\u001b[1;32m     52\u001b[0m     \u001b[38;5;28;01mfor\u001b[39;00m parent1, parent2 \u001b[38;5;129;01min\u001b[39;00m \u001b[38;5;28mzip\u001b[39m(parents[::\u001b[38;5;241m2\u001b[39m], parents[\u001b[38;5;241m1\u001b[39m::\u001b[38;5;241m2\u001b[39m]):\n\u001b[1;32m     53\u001b[0m         child1, child2 \u001b[38;5;241m=\u001b[39m crossover(parent1, parent2, cross_rate)\n",
      "Cell \u001b[0;32mIn[28], line 40\u001b[0m, in \u001b[0;36mtournament\u001b[0;34m(population, tournament_size, prices, weights, capacity)\u001b[0m\n\u001b[1;32m     38\u001b[0m     random\u001b[38;5;241m.\u001b[39mshuffle(population)\n\u001b[1;32m     39\u001b[0m     \u001b[38;5;66;03m# pick winner in candidate population\u001b[39;00m\n\u001b[0;32m---> 40\u001b[0m     parents\u001b[38;5;241m.\u001b[39mappend(\u001b[38;5;28;43mmax\u001b[39;49m\u001b[43m(\u001b[49m\u001b[43mpopulation\u001b[49m\u001b[43m[\u001b[49m\u001b[43m:\u001b[49m\u001b[43mtournament_size\u001b[49m\u001b[43m]\u001b[49m\u001b[43m,\u001b[49m\u001b[43m \u001b[49m\u001b[43mkey\u001b[49m\u001b[38;5;241;43m=\u001b[39;49m\u001b[38;5;28;43;01mlambda\u001b[39;49;00m\u001b[43m \u001b[49m\u001b[43mx\u001b[49m\u001b[43m:\u001b[49m\u001b[43m \u001b[49m\u001b[43mcalculate_fitness\u001b[49m\u001b[43m(\u001b[49m\u001b[43mx\u001b[49m\u001b[43m,\u001b[49m\u001b[43m \u001b[49m\u001b[43mprices\u001b[49m\u001b[43m,\u001b[49m\u001b[43m \u001b[49m\u001b[43mweights\u001b[49m\u001b[43m,\u001b[49m\u001b[43m \u001b[49m\u001b[43mcapacity\u001b[49m\u001b[43m)\u001b[49m\u001b[43m)\u001b[49m)\n\u001b[1;32m     42\u001b[0m \u001b[38;5;28;01mreturn\u001b[39;00m parents\n",
      "Cell \u001b[0;32mIn[28], line 40\u001b[0m, in \u001b[0;36mtournament.<locals>.<lambda>\u001b[0;34m(x)\u001b[0m\n\u001b[1;32m     38\u001b[0m     random\u001b[38;5;241m.\u001b[39mshuffle(population)\n\u001b[1;32m     39\u001b[0m     \u001b[38;5;66;03m# pick winner in candidate population\u001b[39;00m\n\u001b[0;32m---> 40\u001b[0m     parents\u001b[38;5;241m.\u001b[39mappend(\u001b[38;5;28mmax\u001b[39m(population[:tournament_size], key\u001b[38;5;241m=\u001b[39m\u001b[38;5;28;01mlambda\u001b[39;00m x: \u001b[43mcalculate_fitness\u001b[49m\u001b[43m(\u001b[49m\u001b[43mx\u001b[49m\u001b[43m,\u001b[49m\u001b[43m \u001b[49m\u001b[43mprices\u001b[49m\u001b[43m,\u001b[49m\u001b[43m \u001b[49m\u001b[43mweights\u001b[49m\u001b[43m,\u001b[49m\u001b[43m \u001b[49m\u001b[43mcapacity\u001b[49m\u001b[43m)\u001b[49m))\n\u001b[1;32m     42\u001b[0m \u001b[38;5;28;01mreturn\u001b[39;00m parents\n",
      "Cell \u001b[0;32mIn[28], line 8\u001b[0m, in \u001b[0;36mcalculate_fitness\u001b[0;34m(ind, prices, weights, capacity)\u001b[0m\n\u001b[1;32m      6\u001b[0m total_weight \u001b[38;5;241m=\u001b[39m \u001b[38;5;241m0\u001b[39m\n\u001b[1;32m      7\u001b[0m \u001b[38;5;28;01mfor\u001b[39;00m i \u001b[38;5;129;01min\u001b[39;00m \u001b[38;5;28mrange\u001b[39m(\u001b[38;5;28mlen\u001b[39m(ind)):\n\u001b[0;32m----> 8\u001b[0m     total_value \u001b[38;5;241m+\u001b[39m\u001b[38;5;241m=\u001b[39m \u001b[43mprices\u001b[49m\u001b[43m[\u001b[49m\u001b[43mi\u001b[49m\u001b[43m]\u001b[49m\u001b[43m \u001b[49m\u001b[38;5;241;43m*\u001b[39;49m\u001b[43m \u001b[49m\u001b[43mind\u001b[49m\u001b[43m[\u001b[49m\u001b[43mi\u001b[49m\u001b[43m]\u001b[49m\n\u001b[1;32m      9\u001b[0m     total_weight \u001b[38;5;241m+\u001b[39m\u001b[38;5;241m=\u001b[39m weights[i] \u001b[38;5;241m*\u001b[39m ind[i]\n\u001b[1;32m     10\u001b[0m   \u001b[38;5;66;03m# if the possible solution is heavier than the capacity, it is not a valid solution\u001b[39;00m\n",
      "\u001b[0;31mTypeError\u001b[0m: can't multiply sequence by non-int of type 'float'"
     ]
    }
   ],
   "source": [
    "solutions_ga = []\n",
    "for _, row in dataset.iterrows():\n",
    "    target = row['Best price']\n",
    "    solution, indexes = genetic_algorithm(row, population_size = 50, num_generations = 50, mut_rate = 0.1, cross_rate = 0.7, tournament_size = 5)\n",
    "    solutions_ga.append(1 if target == solution else 0)\n"
   ]
  },
  {
   "cell_type": "code",
   "execution_count": 25,
   "metadata": {
    "id": "hJ3ceIHSs-W-"
   },
   "outputs": [
    {
     "name": "stdout",
     "output_type": "stream",
     "text": [
      "Genetic Algorithm Accuracy is nan\n"
     ]
    },
    {
     "name": "stderr",
     "output_type": "stream",
     "text": [
      "/home/natasha/.local/lib/python3.10/site-packages/numpy/core/fromnumeric.py:3504: RuntimeWarning: Mean of empty slice.\n",
      "  return _methods._mean(a, axis=axis, dtype=dtype,\n",
      "/home/natasha/.local/lib/python3.10/site-packages/numpy/core/_methods.py:129: RuntimeWarning: invalid value encountered in scalar divide\n",
      "  ret = ret.dtype.type(ret / rcount)\n"
     ]
    }
   ],
   "source": [
    "print(\"Genetic Algorithm Accuracy is\", np.mean(solutions_ga))"
   ]
  },
  {
   "cell_type": "markdown",
   "metadata": {
    "id": "5yn8KLah-xGF"
   },
   "source": [
    "**Your Analysis:**"
   ]
  },
  {
   "cell_type": "markdown",
   "metadata": {
    "id": "ekb0LOgF-xUN"
   },
   "source": [
    "------------------------------------------------------------------------------------------------"
   ]
  },
  {
   "cell_type": "markdown",
   "metadata": {
    "id": "NdO_H-4t-6mg"
   },
   "source": [
    "**8. Comparative Study**\n",
    "\n",
    "description  +  tables/figures"
   ]
  },
  {
   "cell_type": "markdown",
   "metadata": {
    "id": "4Ypp7TpkAIUe"
   },
   "source": [
    "--------------------------------------------------------------------------\n"
   ]
  },
  {
   "cell_type": "markdown",
   "metadata": {
    "id": "8Ikmq-si_23Y"
   },
   "source": [
    "**9. Conclusion**\n",
    "\n",
    "Comment on the empirical study, its results, and give ideas for future work."
   ]
  },
  {
   "cell_type": "markdown",
   "metadata": {
    "id": "41s8gvCNABDy"
   },
   "source": [
    "--------------------------------------------------------------------------\n"
   ]
  },
  {
   "cell_type": "markdown",
   "metadata": {
    "id": "PtbOgI1q_9a0"
   },
   "source": [
    "**10 References**\n",
    "\n",
    "Make sure you provide references to ALL sources used (articles, code, algorithms)."
   ]
  },
  {
   "cell_type": "markdown",
   "metadata": {
    "id": "zF9cuDJqF75q"
   },
   "source": [
    "**Hint:** To share a link to your colab notebook, click on \"share\" on the top right. Then, under *General access* , change *Restricted* to \"Anyone with the link\"."
   ]
  }
 ],
 "metadata": {
  "colab": {
   "provenance": []
  },
  "kernelspec": {
   "display_name": "Python 3 (ipykernel)",
   "language": "python",
   "name": "python3"
  },
  "language_info": {
   "codemirror_mode": {
    "name": "ipython",
    "version": 3
   },
   "file_extension": ".py",
   "mimetype": "text/x-python",
   "name": "python",
   "nbconvert_exporter": "python",
   "pygments_lexer": "ipython3",
   "version": "3.10.12"
  }
 },
 "nbformat": 4,
 "nbformat_minor": 4
}
